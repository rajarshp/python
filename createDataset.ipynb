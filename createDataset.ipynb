{
 "cells": [
  {
   "cell_type": "code",
   "execution_count": 40,
   "metadata": {
    "scrolled": true
   },
   "outputs": [
    {
     "name": "stdout",
     "output_type": "stream",
     "text": [
      "Enter pdf file name: sce.pdf\n",
      "Enter page numbers: 29-30\n",
      "csv created at  output_1618258926280.csv\n",
      "Completed\n"
     ]
    }
   ],
   "source": [
    "import tabula\n",
    "import time\n",
    "from tabula.io import convert_into\n",
    "import pandas as pd\n",
    "\n",
    "outfile = \"\"\n",
    "page = 0\n",
    "def readPDF(inputfile, page):\n",
    "    times = str(round(time.time() * 1000))\n",
    "    global outfile\n",
    "    outfile = \"output_\" + times + \".csv\"\n",
    "    convert_into(inputfile, outfile, output_format=\"csv\", pages=page)\n",
    "    print(\"csv created at \",outfile)\n",
    "    \n",
    "def formatFile(outfile):\n",
    "    data = pd.read_csv(outfile)\n",
    "    data = data[data.ne(data.columns).any(1)]\n",
    "    data = data.loc[:, ~data.columns.str.contains('^Unnamed')]\n",
    "    data = data.loc[:, ~data.columns.str.contains('^N/A')]\n",
    "    data.dropna(inplace=True)\n",
    "\n",
    "    data = data[['County', 'Circuit','FPI\\rValue','Wind\\rSustained', 'Gust\\rSustained','Thresholds\\r(Sustained/\\rGust)']]\n",
    "    data = data[data.ne(data.columns).any(1)]\n",
    "    data.reset_index(drop=True,inplace=True)\n",
    "    data.columns = ['County', 'Circuit','FPI','WindSustained', 'GustSustained','Thresholds']\n",
    "    #data.head()\n",
    "    data.to_csv(outfile,index=False)\n",
    "    \n",
    "\n",
    "\n",
    "inputfile = input(\"Enter pdf file name: \")\n",
    "page = input(\"Enter page numbers: \")\n",
    "\n",
    "readPDF(inputfile,page)\n",
    "formatFile(outfile)\n",
    "print(\"Completed\")"
   ]
  },
  {
   "cell_type": "code",
   "execution_count": 33,
   "metadata": {},
   "outputs": [],
   "source": [
    "import pandas as pd\n",
    "\n",
    "           "
   ]
  },
  {
   "cell_type": "code",
   "execution_count": null,
   "metadata": {},
   "outputs": [],
   "source": []
  }
 ],
 "metadata": {
  "kernelspec": {
   "display_name": "Python 3",
   "language": "python",
   "name": "python3"
  },
  "language_info": {
   "codemirror_mode": {
    "name": "ipython",
    "version": 3
   },
   "file_extension": ".py",
   "mimetype": "text/x-python",
   "name": "python",
   "nbconvert_exporter": "python",
   "pygments_lexer": "ipython3",
   "version": "3.7.6"
  }
 },
 "nbformat": 4,
 "nbformat_minor": 4
}
